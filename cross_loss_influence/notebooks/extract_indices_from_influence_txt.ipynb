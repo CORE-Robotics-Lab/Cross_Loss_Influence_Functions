{
 "cells": [
  {
   "cell_type": "code",
   "execution_count": 2,
   "metadata": {},
   "outputs": [],
   "source": [
    "import os\n",
    "from cross_loss_influence.config import DATA_DIR\n",
    "import re"
   ]
  },
  {
   "cell_type": "code",
   "execution_count": 3,
   "metadata": {},
   "outputs": [],
   "source": [
    "file_prefix='career_neutral_influence_bolukbasi'\n",
    "N = 10000\n",
    "test_result_file = os.path.join(DATA_DIR, file_prefix+\"test_results.txt\")"
   ]
  },
  {
   "cell_type": "code",
   "execution_count": 4,
   "metadata": {},
   "outputs": [
    {
     "name": "stdout",
     "output_type": "stream",
     "text": [
      "Harmful: [[36490, tensor(-2.8960e-06, device='cuda:0', dtype=torch.float64)], [19258, tensor(-2.0202\n"
     ]
    }
   ],
   "source": [
    "with open(test_result_file, 'r') as f:\n",
    "    all_data = f.readlines()\n",
    "for line in all_data:\n",
    "    if line.split(':')[0] == 'Harmful':\n",
    "        harmfuls = line\n",
    "print(harmfuls[:100])"
   ]
  },
  {
   "cell_type": "code",
   "execution_count": 8,
   "metadata": {},
   "outputs": [],
   "source": [
    "string_chunks = harmfuls.split(',')"
   ]
  },
  {
   "cell_type": "code",
   "execution_count": 9,
   "metadata": {},
   "outputs": [],
   "source": [
    "all_ints = [int(eval(t.split(',')[0])) for t in harmfuls.split('[')[2:]]\n",
    "\n",
    "# all_ints = []\n",
    "# correct=True\n",
    "# for index, chunk in enumerate(string_chunks):\n",
    "#     if index % 3 == 0:\n",
    "#         ints = chunk.split('[')[-1]\n",
    "#         all_ints.append(ints)\n",
    "# all_ints = [int(eval(x)) for x in all_ints]"
   ]
  },
  {
   "cell_type": "code",
   "execution_count": 12,
   "metadata": {},
   "outputs": [
    {
     "data": {
      "text/plain": [
       "[36490, 19258, 35801, 103402, 159117, 84561, 140712, 85539, 6364, 7403]"
      ]
     },
     "execution_count": 12,
     "metadata": {},
     "output_type": "execute_result"
    }
   ],
   "source": [
    "all_ints[:10]"
   ]
  },
  {
   "cell_type": "code",
   "execution_count": 180,
   "metadata": {},
   "outputs": [],
   "source": [
    "with open(os.path.join(DATA_DIR, file_prefix+'helpful_ids.txt'), 'w') as f:\n",
    "    for index in all_ints[:N]:\n",
    "        f.writelines(str(index) + ' ')\n",
    "with open(os.path.join(DATA_DIR, file_prefix+'harmful_ids.txt'), 'w') as f:\n",
    "    for index in all_ints[-N:]:\n",
    "        f.writelines(str(index) + ' ')"
   ]
  },
  {
   "cell_type": "code",
   "execution_count": 182,
   "metadata": {},
   "outputs": [
    {
     "name": "stdout",
     "output_type": "stream",
     "text": [
      "\n"
     ]
    }
   ],
   "source": [
    "all_ints\n",
    "print()"
   ]
  },
  {
   "cell_type": "code",
   "execution_count": null,
   "metadata": {},
   "outputs": [],
   "source": []
  }
 ],
 "metadata": {
  "kernelspec": {
   "display_name": "Python 3",
   "language": "python",
   "name": "python3"
  },
  "language_info": {
   "codemirror_mode": {
    "name": "ipython",
    "version": 3
   },
   "file_extension": ".py",
   "mimetype": "text/x-python",
   "name": "python",
   "nbconvert_exporter": "python",
   "pygments_lexer": "ipython3",
   "version": "3.6.9"
  },
  "pycharm": {
   "stem_cell": {
    "cell_type": "raw",
    "source": [],
    "metadata": {
     "collapsed": false
    }
   }
  }
 },
 "nbformat": 4,
 "nbformat_minor": 4
}